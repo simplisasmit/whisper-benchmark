{
 "cells": [
  {
   "cell_type": "code",
   "execution_count": 1,
   "metadata": {},
   "outputs": [
    {
     "name": "stderr",
     "output_type": "stream",
     "text": [
      "/home/ubuntu/anaconda3/envs/whisper_env/lib/python3.10/site-packages/tqdm/auto.py:21: TqdmWarning: IProgress not found. Please update jupyter and ipywidgets. See https://ipywidgets.readthedocs.io/en/stable/user_install.html\n",
      "  from .autonotebook import tqdm as notebook_tqdm\n"
     ]
    }
   ],
   "source": [
    "from audio import *\n",
    "import os\n",
    "from faster_whisper.feature_extractor import FeatureExtractor"
   ]
  },
  {
   "cell_type": "code",
   "execution_count": 4,
   "metadata": {},
   "outputs": [
    {
     "name": "stdout",
     "output_type": "stream",
     "text": [
      "Created: 10_min_random/random_chunk_1.wav\n",
      "Created: 10_min_random/random_chunk_2.wav\n",
      "Created: 10_min_random/random_chunk_3.wav\n",
      "Created: 10_min_random/random_chunk_4.wav\n",
      "Created: 10_min_random/random_chunk_5.wav\n",
      "Created: 10_min_random/random_chunk_6.wav\n",
      "Created: 10_min_random/random_chunk_7.wav\n",
      "Created: 10_min_random/random_chunk_8.wav\n",
      "Created: 10_min_random/random_chunk_9.wav\n",
      "Created: 10_min_random/random_chunk_10.wav\n",
      "Created: 10_min_random/random_chunk_11.wav\n",
      "Created: 10_min_random/random_chunk_12.wav\n",
      "Created: 10_min_random/random_chunk_13.wav\n",
      "Created: 10_min_random/random_chunk_14.wav\n",
      "Created: 10_min_random/random_chunk_15.wav\n",
      "Created: 10_min_random/random_chunk_16.wav\n",
      "Created: 10_min_random/random_chunk_17.wav\n",
      "Created: 10_min_random/random_chunk_18.wav\n",
      "Created: 10_min_random/random_chunk_19.wav\n",
      "Created: 10_min_random/random_chunk_20.wav\n",
      "Created: 10_min_random/random_chunk_21.wav\n",
      "Created: 10_min_random/random_chunk_22.wav\n",
      "Created: 10_min_random/random_chunk_23.wav\n",
      "Created: 10_min_random/random_chunk_24.wav\n",
      "Created: 10_min_random/random_chunk_25.wav\n",
      "Created: 10_min_random/random_chunk_26.wav\n",
      "Created: 10_min_random/random_chunk_27.wav\n",
      "Created: 10_min_random/random_chunk_28.wav\n",
      "Created: 10_min_random/random_chunk_29.wav\n",
      "Created: 10_min_random/random_chunk_30.wav\n",
      "Created: 10_min_random/random_chunk_31.wav\n",
      "Created: 10_min_random/random_chunk_32.wav\n",
      "Created: 10_min_random/random_chunk_33.wav\n",
      "Created: 10_min_random/random_chunk_34.wav\n",
      "Created: 10_min_random/random_chunk_35.wav\n",
      "Created: 10_min_random/random_chunk_36.wav\n",
      "Created: 10_min_random/random_chunk_37.wav\n",
      "Created: 10_min_random/random_chunk_38.wav\n",
      "Created: 10_min_random/random_chunk_39.wav\n",
      "Created: 10_min_random/random_chunk_40.wav\n",
      "Created: 10_min_random/random_chunk_41.wav\n",
      "Created: 10_min_random/random_chunk_42.wav\n",
      "Created: 10_min_random/random_chunk_43.wav\n",
      "Created: 10_min_random/random_chunk_44.wav\n",
      "Created: 10_min_random/random_chunk_45.wav\n",
      "Created: 10_min_random/random_chunk_46.wav\n",
      "Created: 10_min_random/random_chunk_47.wav\n",
      "Created: 10_min_random/random_chunk_48.wav\n",
      "Created: 10_min_random/random_chunk_49.wav\n",
      "Created: 10_min_random/random_chunk_50.wav\n",
      "Created: 10_min_random/random_chunk_51.wav\n",
      "Created: 10_min_random/random_chunk_52.wav\n",
      "Created: 10_min_random/random_chunk_53.wav\n",
      "Created: 10_min_random/random_chunk_54.wav\n",
      "Created: 10_min_random/random_chunk_55.wav\n",
      "Created: 10_min_random/random_chunk_56.wav\n",
      "Created: 10_min_random/random_chunk_57.wav\n",
      "Created: 10_min_random/random_chunk_58.wav\n",
      "Created: 10_min_random/random_chunk_59.wav\n",
      "Created: 10_min_random/random_chunk_60.wav\n",
      "Created: 10_min_random/random_chunk_61.wav\n",
      "Created: 10_min_random/random_chunk_62.wav\n",
      "Created: 10_min_random/random_chunk_63.wav\n",
      "Created: 10_min_random/random_chunk_64.wav\n",
      "Created: 10_min_random/random_chunk_65.wav\n",
      "Created: 10_min_random/random_chunk_66.wav\n",
      "Created: 10_min_random/random_chunk_67.wav\n",
      "Created: 10_min_random/random_chunk_68.wav\n",
      "Created: 10_min_random/random_chunk_69.wav\n",
      "Created: 10_min_random/random_chunk_70.wav\n",
      "Created: 10_min_random/random_chunk_71.wav\n",
      "Created: 10_min_random/random_chunk_72.wav\n",
      "Created: 10_min_random/random_chunk_73.wav\n",
      "Created: 10_min_random/random_chunk_74.wav\n",
      "Created: 10_min_random/random_chunk_75.wav\n",
      "Created: 10_min_random/random_chunk_76.wav\n",
      "Created: 10_min_random/random_chunk_77.wav\n",
      "Created: 10_min_random/random_chunk_78.wav\n",
      "Created: 10_min_random/random_chunk_79.wav\n",
      "Created: 10_min_random/random_chunk_80.wav\n",
      "Created: 10_min_random/random_chunk_81.wav\n",
      "Created: 10_min_random/random_chunk_82.wav\n",
      "Created: 10_min_random/random_chunk_83.wav\n",
      "Created: 10_min_random/random_chunk_84.wav\n",
      "Created: 10_min_random/random_chunk_85.wav\n",
      "Created: 10_min_random/random_chunk_86.wav\n",
      "Created: 10_min_random/random_chunk_87.wav\n",
      "Created: 10_min_random/random_chunk_88.wav\n",
      "Created: 10_min_random/random_chunk_89.wav\n",
      "Created: 10_min_random/random_chunk_90.wav\n",
      "Created: 10_min_random/random_chunk_91.wav\n",
      "Created: 10_min_random/random_chunk_92.wav\n",
      "Created: 10_min_random/random_chunk_93.wav\n",
      "Created: 10_min_random/random_chunk_94.wav\n",
      "Created: 10_min_random/random_chunk_95.wav\n",
      "Created: 10_min_random/random_chunk_96.wav\n",
      "Created: 10_min_random/random_chunk_97.wav\n",
      "Created: 10_min_random/random_chunk_98.wav\n",
      "Created: 10_min_random/random_chunk_99.wav\n",
      "Created: 10_min_random/random_chunk_100.wav\n",
      "Used seed: 42\n"
     ]
    }
   ],
   "source": [
    "duration = 10\n",
    "create_random_audio(\"sample_audio.mp3\",f\"{duration}_min_random\",100,duration*60,42)"
   ]
  },
  {
   "cell_type": "code",
   "execution_count": 2,
   "metadata": {},
   "outputs": [],
   "source": [
    "from benchmark import *"
   ]
  },
  {
   "cell_type": "code",
   "execution_count": 3,
   "metadata": {},
   "outputs": [],
   "source": [
    "def process(model,audio_files):\n",
    "    gpu_name = get_gpu_name()\n",
    "    print(f\"Using device: {gpu_name}\")\n",
    "\n",
    "    latencies = process_audio_files(audio_files, model)\n",
    "\n",
    "    p25, p50, p90, p99, avg = calculate_metrics(latencies)\n",
    "\n",
    "    save_results_to_csv(gpu_name, p25, p50, p90, p99, avg)"
   ]
  },
  {
   "cell_type": "code",
   "execution_count": 4,
   "metadata": {},
   "outputs": [],
   "source": [
    "model = WhisperModel(\"whisper-large-v3-turbo\", device=\"cuda\", compute_type=\"float16\",)"
   ]
  },
  {
   "cell_type": "code",
   "execution_count": 5,
   "metadata": {},
   "outputs": [],
   "source": [
    "dir = \"1_min_random\"\n",
    "audio_files = [os.path.join(dir,item) for item in os.listdir(dir) if item.endswith('.wav')]"
   ]
  },
  {
   "cell_type": "code",
   "execution_count": null,
   "metadata": {},
   "outputs": [],
   "source": []
  }
 ],
 "metadata": {
  "kernelspec": {
   "display_name": "whisper_env",
   "language": "python",
   "name": "python3"
  },
  "language_info": {
   "codemirror_mode": {
    "name": "ipython",
    "version": 3
   },
   "file_extension": ".py",
   "mimetype": "text/x-python",
   "name": "python",
   "nbconvert_exporter": "python",
   "pygments_lexer": "ipython3",
   "version": "3.10.15"
  }
 },
 "nbformat": 4,
 "nbformat_minor": 2
}
